{
 "cells": [
  {
   "cell_type": "markdown",
   "id": "4abe58ad-221a-4a45-8ce9-cd6054c879e2",
   "metadata": {},
   "source": [
    "### Computational baseline test\n",
    "\n",
    "Approximate average elapsed time for n = 50000000:\n",
    "- 1-node cluster: 8.0 (+/- 0.1) seconds\n",
    "- 2-node cluster: 7.0 (+/- 0.1) seconds\n",
    "- 3-node cluster: 7.4 (+/- 0.1) seconds"
   ]
  },
  {
   "cell_type": "code",
   "execution_count": null,
   "id": "2341fae4-9cc9-4a55-ba78-58079366cc7b",
   "metadata": {},
   "outputs": [],
   "source": [
    "import time\n",
    "\n",
    "n = 50000000\n",
    "count = 0\n",
    "start_time = time.monotonic()\n",
    "\n",
    "for i in range(n):\n",
    "    count += 1\n",
    "\n",
    "print('execution time: ', time.monotonic() - start_time)"
   ]
  },
  {
   "cell_type": "markdown",
   "id": "b91100fb-d13d-4e1f-87d6-16a3e70e3a79",
   "metadata": {},
   "source": [
    "### TensorFlow (Keras) MNIST ANN test\n",
    "\n",
    "https://www.tensorflow.org/datasets/keras_example\n",
    "\n",
    "Approximate average elapsed time for epochs = 6:\n",
    "- 1-node cluster: 51.0 (+/- 2.0) seconds\n",
    "- 2-node cluster: 41.0 (+/- 2.0) seconds\n",
    "- 3-node cluster: 35.0 (+/- 2.5) seconds"
   ]
  },
  {
   "cell_type": "code",
   "execution_count": null,
   "id": "bf01c766-42f1-4818-8915-5a8c715dbe96",
   "metadata": {},
   "outputs": [],
   "source": [
    "import tensorflow as tf\n",
    "import tensorflow_datasets as tfds\n",
    "import time"
   ]
  },
  {
   "cell_type": "code",
   "execution_count": null,
   "id": "3988727e-a747-408a-9af0-77340476e8cd",
   "metadata": {},
   "outputs": [],
   "source": [
    "(ds_train, ds_test), ds_info = tfds.load(\n",
    "    'mnist',\n",
    "    split=['train', 'test'],\n",
    "    shuffle_files=True,\n",
    "    as_supervised=True,\n",
    "    with_info=True,\n",
    ")"
   ]
  },
  {
   "cell_type": "code",
   "execution_count": null,
   "id": "898dbecf-d87a-4569-880f-9d0d8c21a05f",
   "metadata": {},
   "outputs": [],
   "source": [
    "def normalize_img(image, label):\n",
    "  \"\"\"Normalizes images: `uint8` -> `float32`.\"\"\"\n",
    "  return tf.cast(image, tf.float32) / 255., label\n",
    "\n",
    "ds_train = ds_train.map(\n",
    "    normalize_img, num_parallel_calls=tf.data.AUTOTUNE)\n",
    "ds_train = ds_train.cache()\n",
    "ds_train = ds_train.shuffle(ds_info.splits['train'].num_examples)\n",
    "ds_train = ds_train.batch(128)\n",
    "ds_train = ds_train.prefetch(tf.data.AUTOTUNE)"
   ]
  },
  {
   "cell_type": "code",
   "execution_count": null,
   "id": "43cf7913-ea2c-49a5-b5a1-f51350b139b8",
   "metadata": {},
   "outputs": [],
   "source": [
    "ds_test = ds_test.map(\n",
    "    normalize_img, num_parallel_calls=tf.data.AUTOTUNE)\n",
    "ds_test = ds_test.batch(128)\n",
    "ds_test = ds_test.cache()\n",
    "ds_test = ds_test.prefetch(tf.data.AUTOTUNE)"
   ]
  },
  {
   "cell_type": "code",
   "execution_count": null,
   "id": "be65a678-d34a-48d7-b7a7-7b9723a37039",
   "metadata": {},
   "outputs": [],
   "source": [
    "start_time = time.monotonic()\n",
    "\n",
    "model = tf.keras.models.Sequential([\n",
    "  tf.keras.layers.Flatten(input_shape=(28, 28)),\n",
    "  tf.keras.layers.Dense(128, activation='relu'),\n",
    "  tf.keras.layers.Dense(10)\n",
    "])\n",
    "model.compile(\n",
    "    optimizer=tf.keras.optimizers.Adam(0.001),\n",
    "    loss=tf.keras.losses.SparseCategoricalCrossentropy(from_logits=True),\n",
    "    metrics=[tf.keras.metrics.SparseCategoricalAccuracy()],\n",
    ")\n",
    "\n",
    "model.fit(\n",
    "    ds_train,\n",
    "    epochs=6,\n",
    "    validation_data=ds_test,\n",
    ")\n",
    "\n",
    "print('\\nexecution time: ', time.monotonic() - start_time)"
   ]
  },
  {
   "cell_type": "code",
   "execution_count": null,
   "id": "94a9a2c8-4337-4963-beec-813f51768c76",
   "metadata": {},
   "outputs": [],
   "source": []
  }
 ],
 "metadata": {
  "kernelspec": {
   "display_name": "Python 3",
   "language": "python",
   "name": "python3"
  },
  "language_info": {
   "codemirror_mode": {
    "name": "ipython",
    "version": 3
   },
   "file_extension": ".py",
   "mimetype": "text/x-python",
   "name": "python",
   "nbconvert_exporter": "python",
   "pygments_lexer": "ipython3",
   "version": "3.8.10"
  }
 },
 "nbformat": 4,
 "nbformat_minor": 5
}
